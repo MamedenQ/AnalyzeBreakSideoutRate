{
  "nbformat": 4,
  "nbformat_minor": 0,
  "metadata": {
    "colab": {
      "name": "ブレイク率とサイドアウト率.ipynb",
      "provenance": [],
      "authorship_tag": "ABX9TyOKZn6udYb8YBZgd9qsw1rr",
      "include_colab_link": true
    },
    "kernelspec": {
      "name": "python3",
      "display_name": "Python 3"
    },
    "language_info": {
      "name": "python"
    }
  },
  "cells": [
    {
      "cell_type": "markdown",
      "metadata": {
        "id": "view-in-github",
        "colab_type": "text"
      },
      "source": [
        "<a href=\"https://colab.research.google.com/github/MamedenQ/AnalyzeBreakSideoutRate/blob/main/%E3%83%96%E3%83%AC%E3%82%A4%E3%82%AF%E7%8E%87%E3%81%A8%E3%82%B5%E3%82%A4%E3%83%89%E3%82%A2%E3%82%A6%E3%83%88%E7%8E%87.ipynb\" target=\"_parent\"><img src=\"https://colab.research.google.com/assets/colab-badge.svg\" alt=\"Open In Colab\"/></a>"
      ]
    },
    {
      "cell_type": "markdown",
      "source": [
        "リポジトリクローン"
      ],
      "metadata": {
        "id": "WfRW7zE-0cUS"
      }
    },
    {
      "cell_type": "code",
      "source": [
        "!git clone -q --depth 1 \"https://github.com/MamedenQ/AnalyzeBreakSideoutRate.git\""
      ],
      "metadata": {
        "id": "jaEtG7il0dVJ"
      },
      "execution_count": null,
      "outputs": []
    },
    {
      "cell_type": "markdown",
      "source": [
        "必要ライブラリインポート"
      ],
      "metadata": {
        "id": "odBujsJlj3CK"
      }
    },
    {
      "cell_type": "code",
      "execution_count": null,
      "metadata": {
        "id": "vezIdlaVYDJj"
      },
      "outputs": [],
      "source": [
        "import pandas as pd\n",
        "import matplotlib.pyplot as plt\n",
        "import seaborn as sns"
      ]
    },
    {
      "cell_type": "markdown",
      "source": [
        "データ読み込み、確認"
      ],
      "metadata": {
        "id": "vkvdhnz7XV_W"
      }
    },
    {
      "cell_type": "code",
      "source": [
        "csv_path = \"AnalyzeBreakSideoutRate/data.csv\"\n",
        "df = pd.read_csv(csv_path)\n",
        "\n",
        "df.head()"
      ],
      "metadata": {
        "id": "s9_dW5zdkys-"
      },
      "execution_count": null,
      "outputs": []
    },
    {
      "cell_type": "code",
      "source": [
        "sns.scatterplot(data=df, x='break', y='sideout', hue=\"win_or_lose\", palette=\"deep\")\n",
        "\n",
        "# 軸の設定\n",
        "gca = plt.gca()\n",
        "gca.set(xlim=(0, 1), ylim=(0, 1))\n",
        "\n",
        "plt.show()"
      ],
      "metadata": {
        "id": "PBcH9jo4j2m0"
      },
      "execution_count": null,
      "outputs": []
    }
  ]
}